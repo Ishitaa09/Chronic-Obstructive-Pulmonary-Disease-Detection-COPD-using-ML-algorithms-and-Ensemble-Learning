{
 "cells": [
  {
   "cell_type": "code",
   "execution_count": 1,
   "metadata": {},
   "outputs": [
    {
     "name": "stderr",
     "output_type": "stream",
     "text": [
      "C:\\Users\\ishit\\AppData\\Local\\Temp\\ipykernel_46904\\3107590846.py:2: DeprecationWarning: \n",
      "Pyarrow will become a required dependency of pandas in the next major release of pandas (pandas 3.0),\n",
      "(to allow more performant data types, such as the Arrow string type, and better interoperability with other libraries)\n",
      "but was not found to be installed on your system.\n",
      "If this would cause problems for you,\n",
      "please provide us feedback at https://github.com/pandas-dev/pandas/issues/54466\n",
      "        \n",
      "  import pandas as pd\n"
     ]
    },
    {
     "name": "stdout",
     "output_type": "stream",
     "text": [
      "WARNING:tensorflow:From c:\\Users\\ishit\\anaconda3\\envs\\lab2\\Lib\\site-packages\\keras\\src\\losses.py:2976: The name tf.losses.sparse_softmax_cross_entropy is deprecated. Please use tf.compat.v1.losses.sparse_softmax_cross_entropy instead.\n",
      "\n"
     ]
    }
   ],
   "source": [
    "import numpy as np\n",
    "import pandas as pd\n",
    "from sklearn.model_selection import train_test_split\n",
    "from sklearn.preprocessing import StandardScaler\n",
    "import tensorflow as tf\n",
    "from tensorflow.keras.models import Sequential\n",
    "from tensorflow.keras.layers import Dense\n",
    "from tensorflow.keras.layers import Dropout\n",
    "from sklearn.metrics import accuracy_score, precision_score, recall_score, f1_score"
   ]
  },
  {
   "cell_type": "code",
   "execution_count": 2,
   "metadata": {},
   "outputs": [],
   "source": [
    "data = pd.read_csv(r\"C:\\Users\\ishit\\Documents\\sem 6\\mini project\\COPD dataset.csv\")"
   ]
  },
  {
   "cell_type": "code",
   "execution_count": 4,
   "metadata": {},
   "outputs": [],
   "source": [
    "data = data.dropna()\n"
   ]
  },
  {
   "cell_type": "code",
   "execution_count": 9,
   "metadata": {},
   "outputs": [],
   "source": [
    "data = data.drop(columns=['COPDSEVERITY'])"
   ]
  },
  {
   "cell_type": "code",
   "execution_count": 10,
   "metadata": {},
   "outputs": [],
   "source": [
    "X = data.drop(columns=['copd'])\n",
    "y = data['copd']"
   ]
  },
  {
   "cell_type": "code",
   "execution_count": 11,
   "metadata": {},
   "outputs": [],
   "source": [
    "scaler = StandardScaler()\n",
    "X_scaled = scaler.fit_transform(X)"
   ]
  },
  {
   "cell_type": "code",
   "execution_count": 12,
   "metadata": {},
   "outputs": [],
   "source": [
    "X_train, X_test, y_train, y_test = train_test_split(X_scaled, y, test_size=0.2, random_state=42)"
   ]
  },
  {
   "cell_type": "code",
   "execution_count": 13,
   "metadata": {},
   "outputs": [
    {
     "name": "stdout",
     "output_type": "stream",
     "text": [
      "WARNING:tensorflow:From c:\\Users\\ishit\\anaconda3\\envs\\lab2\\Lib\\site-packages\\keras\\src\\backend.py:873: The name tf.get_default_graph is deprecated. Please use tf.compat.v1.get_default_graph instead.\n",
      "\n"
     ]
    }
   ],
   "source": [
    "model = Sequential([\n",
    "    Dense(128, activation='relu', input_shape=(X_train.shape[1],)),\n",
    "    Dropout(0.2),\n",
    "    Dense(64, activation='relu'),\n",
    "    Dropout(0.2),\n",
    "    Dense(1, activation='sigmoid')\n",
    "])"
   ]
  },
  {
   "cell_type": "code",
   "execution_count": 14,
   "metadata": {},
   "outputs": [
    {
     "name": "stdout",
     "output_type": "stream",
     "text": [
      "WARNING:tensorflow:From c:\\Users\\ishit\\anaconda3\\envs\\lab2\\Lib\\site-packages\\keras\\src\\optimizers\\__init__.py:309: The name tf.train.Optimizer is deprecated. Please use tf.compat.v1.train.Optimizer instead.\n",
      "\n"
     ]
    }
   ],
   "source": [
    "model.compile(optimizer='adam', loss='binary_crossentropy', metrics=['accuracy'])"
   ]
  },
  {
   "cell_type": "code",
   "execution_count": 15,
   "metadata": {},
   "outputs": [
    {
     "name": "stdout",
     "output_type": "stream",
     "text": [
      "Epoch 1/20\n",
      "WARNING:tensorflow:From c:\\Users\\ishit\\anaconda3\\envs\\lab2\\Lib\\site-packages\\keras\\src\\utils\\tf_utils.py:492: The name tf.ragged.RaggedTensorValue is deprecated. Please use tf.compat.v1.ragged.RaggedTensorValue instead.\n",
      "\n",
      "WARNING:tensorflow:From c:\\Users\\ishit\\anaconda3\\envs\\lab2\\Lib\\site-packages\\keras\\src\\engine\\base_layer_utils.py:384: The name tf.executing_eagerly_outside_functions is deprecated. Please use tf.compat.v1.executing_eagerly_outside_functions instead.\n",
      "\n",
      "3/3 [==============================] - 3s 107ms/step - loss: 0.0782 - accuracy: 0.1772 - val_loss: -0.6594 - val_accuracy: 0.1500\n",
      "Epoch 2/20\n",
      "3/3 [==============================] - 0s 23ms/step - loss: -0.9216 - accuracy: 0.2532 - val_loss: -1.5294 - val_accuracy: 0.1500\n",
      "Epoch 3/20\n",
      "3/3 [==============================] - 0s 25ms/step - loss: -1.4746 - accuracy: 0.2532 - val_loss: -2.3754 - val_accuracy: 0.1500\n",
      "Epoch 4/20\n",
      "3/3 [==============================] - 0s 23ms/step - loss: -2.2335 - accuracy: 0.2532 - val_loss: -3.2221 - val_accuracy: 0.1500\n",
      "Epoch 5/20\n",
      "3/3 [==============================] - 0s 19ms/step - loss: -3.0867 - accuracy: 0.2532 - val_loss: -4.0851 - val_accuracy: 0.1500\n",
      "Epoch 6/20\n",
      "3/3 [==============================] - 0s 29ms/step - loss: -3.6246 - accuracy: 0.2532 - val_loss: -5.0006 - val_accuracy: 0.1500\n",
      "Epoch 7/20\n",
      "3/3 [==============================] - 0s 22ms/step - loss: -4.4916 - accuracy: 0.2532 - val_loss: -6.0018 - val_accuracy: 0.1500\n",
      "Epoch 8/20\n",
      "3/3 [==============================] - 0s 22ms/step - loss: -5.5302 - accuracy: 0.2532 - val_loss: -7.0665 - val_accuracy: 0.1500\n",
      "Epoch 9/20\n",
      "3/3 [==============================] - 0s 19ms/step - loss: -6.2218 - accuracy: 0.2532 - val_loss: -8.2320 - val_accuracy: 0.1500\n",
      "Epoch 10/20\n",
      "3/3 [==============================] - 0s 19ms/step - loss: -6.9596 - accuracy: 0.2532 - val_loss: -9.5275 - val_accuracy: 0.1500\n",
      "Epoch 11/20\n",
      "3/3 [==============================] - 0s 21ms/step - loss: -8.4379 - accuracy: 0.2532 - val_loss: -10.9704 - val_accuracy: 0.1500\n",
      "Epoch 12/20\n",
      "3/3 [==============================] - 0s 17ms/step - loss: -8.8912 - accuracy: 0.2532 - val_loss: -12.5578 - val_accuracy: 0.1500\n",
      "Epoch 13/20\n",
      "3/3 [==============================] - 0s 19ms/step - loss: -10.4635 - accuracy: 0.2532 - val_loss: -14.3026 - val_accuracy: 0.1500\n",
      "Epoch 14/20\n",
      "3/3 [==============================] - 0s 22ms/step - loss: -12.5395 - accuracy: 0.2532 - val_loss: -16.2507 - val_accuracy: 0.1500\n",
      "Epoch 15/20\n",
      "3/3 [==============================] - 0s 23ms/step - loss: -13.7949 - accuracy: 0.2532 - val_loss: -18.3885 - val_accuracy: 0.1500\n",
      "Epoch 16/20\n",
      "3/3 [==============================] - 0s 30ms/step - loss: -15.2648 - accuracy: 0.2532 - val_loss: -20.7695 - val_accuracy: 0.1500\n",
      "Epoch 17/20\n",
      "3/3 [==============================] - 0s 27ms/step - loss: -17.2986 - accuracy: 0.2532 - val_loss: -23.4059 - val_accuracy: 0.1500\n",
      "Epoch 18/20\n",
      "3/3 [==============================] - 0s 24ms/step - loss: -20.4281 - accuracy: 0.2532 - val_loss: -26.3439 - val_accuracy: 0.1500\n",
      "Epoch 19/20\n",
      "3/3 [==============================] - 0s 25ms/step - loss: -23.1327 - accuracy: 0.2532 - val_loss: -29.5980 - val_accuracy: 0.1500\n",
      "Epoch 20/20\n",
      "3/3 [==============================] - 0s 24ms/step - loss: -26.0639 - accuracy: 0.2532 - val_loss: -33.2515 - val_accuracy: 0.1500\n"
     ]
    },
    {
     "data": {
      "text/plain": [
       "<keras.src.callbacks.History at 0x24ac9680cd0>"
      ]
     },
     "execution_count": 15,
     "metadata": {},
     "output_type": "execute_result"
    }
   ],
   "source": [
    "model.fit(X_train, y_train, epochs=20, batch_size=32, validation_data=(X_test, y_test))\n"
   ]
  },
  {
   "cell_type": "code",
   "execution_count": 16,
   "metadata": {},
   "outputs": [
    {
     "name": "stdout",
     "output_type": "stream",
     "text": [
      "1/1 [==============================] - 0s 235ms/step\n"
     ]
    }
   ],
   "source": [
    "y_pred = model.predict(X_test)\n",
    "y_pred = (y_pred > 0.5) "
   ]
  },
  {
   "cell_type": "code",
   "execution_count": 21,
   "metadata": {},
   "outputs": [
    {
     "name": "stdout",
     "output_type": "stream",
     "text": [
      "Accuracy: 0.15\n"
     ]
    }
   ],
   "source": [
    "accuracy = accuracy_score(y_test, y_pred)\n",
    "\n",
    "\n",
    "\n",
    "print(\"Accuracy:\", accuracy)\n",
    "\n"
   ]
  }
 ],
 "metadata": {
  "kernelspec": {
   "display_name": "lab2",
   "language": "python",
   "name": "python3"
  },
  "language_info": {
   "codemirror_mode": {
    "name": "ipython",
    "version": 3
   },
   "file_extension": ".py",
   "mimetype": "text/x-python",
   "name": "python",
   "nbconvert_exporter": "python",
   "pygments_lexer": "ipython3",
   "version": "3.11.7"
  }
 },
 "nbformat": 4,
 "nbformat_minor": 2
}
